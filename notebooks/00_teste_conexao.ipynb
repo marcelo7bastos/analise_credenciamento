{
 "cells": [
  {
   "cell_type": "code",
   "execution_count": 10,
   "metadata": {},
   "outputs": [],
   "source": [
    "import sys\n",
    "sys.path.append(\"../scripts\")  # Ajuste conforme a localização do seu notebook\n",
    "\n",
    "from db_connection import get_db_connection\n",
    "\n",
    "conn = get_db_connection()\n"
   ]
  },
  {
   "cell_type": "code",
   "execution_count": 11,
   "metadata": {},
   "outputs": [
    {
     "name": "stdout",
     "output_type": "stream",
     "text": [
      "(93344, 3, False, '00003', '000003/2023')\n",
      "(93344, 101, False, '122', '000003/2023')\n",
      "(93344, 101, False, '122', '000003/2023')\n",
      "(93344, 101, True, '122', '000003/2023')\n",
      "(5483734, 3, False, '00227', '000131/2023')\n",
      "(5483734, 179, True, '00227', '000131/2023')\n",
      "(5526493, 3, False, '00264', '000185/2023')\n",
      "(5526493, 179, True, '00264', '000185/2023')\n",
      "(5542847, 3, False, '00113', '000213/2023')\n",
      "(5542847, 179, True, '00113', '000213/2023')\n",
      "(5666984, 3, False, '90002', '000003/2024')\n",
      "(5666984, 174, True, '90002', '000003/2024')\n",
      "(5669128, 3, False, '90002', '000007/2024')\n",
      "(5669128, 179, True, '90002', '000007/2024')\n",
      "(5671591, 3, False, '90005', '000023/2024')\n",
      "(5671591, 179, True, '90005', '000023/2024')\n",
      "(5672861, 3, False, '90024', '000025/2024')\n",
      "(5672861, 179, True, '90024', '000025/2024')\n",
      "(5682632, 3, False, '00268', '000207/2023')\n",
      "(5682632, 102, True, '00268', '000207/2023')\n",
      "(5691281, 3, False, '3', '000003/2024')\n",
      "(5691281, 273, False, '4', '000003/2024')\n",
      "(5691281, 273, False, '4', '000003/2024')\n",
      "(5691281, 273, True, '4', '000003/2024')\n"
     ]
    }
   ],
   "source": [
    "try:\n",
    "    # Executar uma consulta\n",
    "    cursor = conn.cursor()\n",
    "    consulta_compra = \"\"\"\n",
    "    SELECT\n",
    "      ch.id as compraid,\n",
    "      ch.usuarioid as usuariocompra,\n",
    "      ch.excluido,\n",
    "      ch.numerocompra,\n",
    "      LPAD(ch.sequencialcompra,6,0) ||'/'||ch.anocompra AS sequencialcompra_anocompra\n",
    "    FROM PNCP_VBL.comprahistorico ch\n",
    "    WHERE id IN (93344, 5483734, 5526493, 5542847, 5666984, 5669128, 5671591, 5672861, 5682632, 5691281);\n",
    "    \"\"\"\n",
    "    cursor.execute(consulta_compra)\n",
    "\n",
    "    # Buscar os resultados\n",
    "    results = cursor.fetchall()\n",
    "    for row in results:\n",
    "        print(row)\n",
    "finally:\n",
    "    # Garante que o cursor e a conexão sejam fechados\n",
    "    cursor.close()\n",
    "    conn.close()"
   ]
  }
 ],
 "metadata": {
  "kernelspec": {
   "display_name": "analise_solicitacao_credenciamento",
   "language": "python",
   "name": "python3"
  },
  "language_info": {
   "codemirror_mode": {
    "name": "ipython",
    "version": 3
   },
   "file_extension": ".py",
   "mimetype": "text/x-python",
   "name": "python",
   "nbconvert_exporter": "python",
   "pygments_lexer": "ipython3",
   "version": "3.10.6"
  }
 },
 "nbformat": 4,
 "nbformat_minor": 2
}
